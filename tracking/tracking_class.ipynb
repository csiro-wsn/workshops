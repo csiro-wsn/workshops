{
 "cells": [
  {
   "attachments": {},
   "cell_type": "markdown",
   "metadata": {},
   "source": [
    "## CSSE4011 - Kalman Filter Tracking Lab\n",
    "The goal of this lab is to define a Kalman filter for tracking an object in 2D space and to learn about the different Kalman filter parameters that we can tweak to change Kalman Filters performance. \n",
    "\n",
    "We start with recapping the key Kalman Filter concepts.\n",
    "\n",
    "### Kalman Filter Definition\n",
    "We first define Kalman filter for tracking objects that move at a constant velocity in a 2-dimensional space. \n",
    "\n",
    "#### State vector\n",
    "We would like the filter to track four state variables - location and velocity vector of the object. The state vector is then defined as follows\n",
    "> $[x,y,v_x,v_y]$\n",
    "\n",
    "where $x$ and $y$ are location of the object and $v_x$ and $v_y$ are the velocity vector\n",
    "\n",
    "#### Transition Matrix $F$\n",
    "Next we define the state transition matrix $F$ that defines how the state vector changes over time. Given time interval $dt$ (e.g., 1 second), position $x$ will increase by $x+v_x*dt$ and position $y$ will increase by $y+v_y*dt$\n",
    " >   <table >\n",
    " >   <tr><th> x </th><th> x </th><th> x </th><th>   x </tr>\n",
    " >   <tr><th> x </th><th> x </th><th> x  </th><th>  x </tr>\n",
    " >   <tr><th> x </th><th> x </th><th> x  </th><th>  x </tr>\n",
    " >   <tr><th> x </th><th> x </th><th> x  </th><th>  x </tr>\n",
    " >   </table>\n",
    "\n",
    "\n",
    "#### Observation Matrix $H$\n",
    "The observation matrix $H$ specifies the relationships between measurements and the state vector. We assume we have a sensor that can directly observe location $(x,y)$ of the tracked object (e.g., GPS or a multi-lateration method).\n",
    ">    <table >\n",
    ">    <tr><th> x </th><th> x </th><th> x </th><th> x </tr>\n",
    ">    <tr><th> x </th><th> x </th><th> x </th><th> x </tr>\n",
    ">    </table>\n",
    "\n",
    "#### Error Matrices $Q$ and $R$\n",
    "\n",
    "Process noise matrix $Q$ expresses our confidence in the state transition matrix $F$. In other words, how confident are we that the tracked object will follow the prescribed process, such as, infinite constant-speed linear motion. For simplicity, we assume that position and velocity are uncorrelated and use a parameter <b>proc_error</b> to control the magnitude of the process error.\n",
    "\n",
    "> $Q = eye(4)*proc_-error$\n",
    "\n",
    "Measuremetn noise matrix $R$ expresses our confidence in the measurements. For simplicity, we assume a constant measurement error the magnitude of which is controlled through <b>meas_error</b> parameter.\n",
    "> $R = eye(2)*meas_-error$\n"
   ]
  },
  {
   "attachments": {},
   "cell_type": "markdown",
   "metadata": {},
   "source": [
    "## Simulation\n",
    "Now lets prepare a simulation of an object moving through 2-dimensional space!\n",
    "\n",
    "We first define a function that will generate a simulated trajectory assuming linear motion with velocity vector (v<sub>x</sub>,v<sub>y</sub> ), for <b>num_steps</b> number of simualted steps, assuming each step takes <b>dt</b> seconds. Remember, state vector defined above has four parameters, as it tracks both location and velocity."
   ]
  },
  {
   "attachments": {},
   "cell_type": "markdown",
   "metadata": {},
   "source": [
    "### Generate Simulated Data\n",
    "\n",
    "Now we generated the data. Let's assume we have 100 steps in our simulation and each step takes dt = 1 second. Let's assume our object starts at $[5,2]$ location and is moving with velocity vetor $[1,2]$. You can imagine the location units are in meters and velocity units are in meters per second.\n",
    "\n",
    "Let's also assume our measurement error is pretty poor - makes an average erorr of 10m.\n",
    "\n",
    "The code below generates the ground truth state vector for the tracked object (<b>x_true</b>) and also generates a measurement error vector (<b>obs_err</b>) by drawing errors randomly from a normal (Gaussian) distribution with mean defined by the <b>meas_error</b> parameter. We add the two vectors to obtain the observation vector (<b>obs</b>) for each timestamp.\n",
    "\n",
    "Finally, plot the ground truth and measured location data."
   ]
  },
  {
   "cell_type": "code",
   "execution_count": 1,
   "metadata": {},
   "outputs": [
    {
     "name": "stderr",
     "output_type": "stream",
     "text": [
      "/var/folders/4x/5ybxtpbn6t95rpf4t1qwxvc000_4nq/T/ipykernel_76587/1333417152.py:29: UserWarning: You passed a edgecolor/edgecolors ('k') for an unfilled marker ('+').  Matplotlib is ignoring the edgecolor in favor of the facecolor.  This behavior may change in the future.\n",
      "  plt.scatter(obs[:,0],   obs[:,1],   s=10,c='k',marker='+', edgecolors='k', label=\"measured loc\")\n"
     ]
    },
    {
     "data": {
      "text/plain": [
       "<matplotlib.legend.Legend at 0x116de4f10>"
      ]
     },
     "execution_count": 1,
     "metadata": {},
     "output_type": "execute_result"
    },
    {
     "data": {
      "image/png": "[encoded data removed]",
      "text/plain": [
       "<Figure size 640x480 with 1 Axes>"
      ]
     },
     "metadata": {},
     "output_type": "display_data"
    }
   ],
   "source": [
    "import matplotlib.pyplot as plt\n",
    "import numpy\n",
    "import random\n",
    "\n",
    "def generate_trajectory(x,y,vx,vy,dt,num_steps):\n",
    "    return [(x+i*dt*vx,\n",
    "             y+i*dt*vy) for i in range(num_steps)]\n",
    "\n",
    "dim_x = 4\n",
    "dim_z = 2\n",
    "\n",
    "nsteps = 100\n",
    "dt = 1.0 #sec\n",
    "xcoord = 5.0\n",
    "ycoord = 2.0\n",
    "vx = 1.0 #m.s\n",
    "vy = 2.0 #m/s\n",
    "meas_error = 10.0 #m\n",
    "\n",
    "#generate ground truth\n",
    "x_true = numpy.array(generate_trajectory(xcoord,ycoord,vx,vy,dt,nsteps))\n",
    "obs_err = numpy.random.normal(0,numpy.ones(dim_z)*meas_error,(nsteps,dim_z)) # observations \n",
    "obs = x_true[:,0:2]+obs_err\n",
    "\n",
    "plt.figure()\n",
    "plt.scatter(x_true[:,0],x_true[:,1],s=1, c='b',marker='o', edgecolors='b', label=\"true location\")\n",
    "plt.scatter(obs[:,0],   obs[:,1],   s=10,c='k',marker='+', edgecolors='k', label=\"measured loc\")\n",
    "plt.xlabel('x [m]')\n",
    "plt.ylabel('y [m]')\n",
    "plt.legend(loc=4)"
   ]
  },
  {
   "attachments": {},
   "cell_type": "markdown",
   "metadata": {},
   "source": [
    "## Track Object Location\n",
    "The final step is to use the Kalman filter to track location of the object given the noisy measurements. \n",
    "\n",
    "We use heuristic values for Kalman Filter parameters that can be found in literature or are derived from the real-world constraints in the specific tracking scenario. \n",
    "-  we use process error value of 1\n",
    "-  we estimate inital error to be within a 10m^2 area\n",
    "-  the measurement error is typically estimated by characterizing the measurement method, here we use the true measurement error that we used in the simulator above.\n",
    "\n",
    "### Exercise 1: Define the Tracker \n",
    "Define the Kalman Filter matrices as per the definitions above, using the filterpy python library. \n",
    "\n",
    "After the filter is defined, run it to predict the tracked object locations. You can use batch_filter function to predict the location for the whole observation vector. For real-time tracking, you'd run predict and update functions of the kalman filter library."
   ]
  },
  {
   "cell_type": "code",
   "execution_count": 2,
   "metadata": {},
   "outputs": [
    {
     "ename": "SyntaxError",
     "evalue": "invalid syntax (2044379251.py, line 10)",
     "output_type": "error",
     "traceback": [
      "\u001b[0;36m  Cell \u001b[0;32mIn[2], line 10\u001b[0;36m\u001b[0m\n\u001b[0;31m    kf.F = numpy.array(?)\u001b[0m\n\u001b[0m                       ^\u001b[0m\n\u001b[0;31mSyntaxError\u001b[0m\u001b[0;31m:\u001b[0m invalid syntax\n"
     ]
    }
   ],
   "source": [
    "from filterpy.kalman import KalmanFilter\n",
    "\n",
    "proc_error = 1e-0\n",
    "init_error = 10.0\n",
    "\n",
    "x_init = numpy.array( [xcoord+random.uniform(-init_error/2,init_error/2), ycoord+random.uniform(-init_error/2,init_error/2), vx, vy] ) #introduced initial xcoord error of 10m \n",
    "cov_init=init_error**2 * numpy.eye(dim_x)\n",
    "\n",
    "kf = KalmanFilter(dim_x, dim_z)\n",
    "kf.F = numpy.array(?)\n",
    "kf.Q = numpy.eye(dim_x)*proc_error\n",
    "kf.H = numpy.array(?)\n",
    "kf.R = numpy.eye(dim_z)*meas_error\n",
    "\n",
    "kf.x = x_init.T\n",
    "kf.P = cov_init\n",
    "\n",
    "#track the object (use batch mode to calculate predictions for the whole simulation vector obs)\n",
    "x_pred, cov, _, _ = kf.batch_filter(obs)\n",
    "\n",
    "plt.figure()\n",
    "plt.scatter(x_true[:,0],x_true[:,1],s=1, c='b',marker='o', edgecolors='b', label=\"true location\")\n",
    "plt.scatter(obs[:,0],   obs[:,1],   s=10,c='k',marker='+', edgecolors='k', label=\"measured loc\")\n",
    "plt.scatter(x_pred[:,0], x_pred[:,1], s=10,c='r',marker='s', edgecolors='r', label=\"estimated loc\")\n",
    "plt.xlabel('x [m]')\n",
    "plt.ylabel('y [m]')\n",
    "plt.legend(loc=4)"
   ]
  },
  {
   "attachments": {},
   "cell_type": "markdown",
   "metadata": {},
   "source": [
    "### Exercise 2 - improve KF performance by tweaking the error matrices\n",
    "Kalman filter performance depends on how well we estimated the uncertainties that are present in the model. Note we have made a number of simplifying assumtions and it's always a good practice to study how well the algorithm works when a hyper-parameter value changes. In this exercise, tweak the value of <b>proc_error</b> function to get a smoother predicted trajectory."
   ]
  },
  {
   "cell_type": "code",
   "execution_count": 3,
   "metadata": {},
   "outputs": [
    {
     "ename": "NameError",
     "evalue": "name 'kf' is not defined",
     "output_type": "error",
     "traceback": [
      "\u001b[0;31m---------------------------------------------------------------------------\u001b[0m",
      "\u001b[0;31mNameError\u001b[0m                                 Traceback (most recent call last)",
      "Cell \u001b[0;32mIn[3], line 2\u001b[0m\n\u001b[1;32m      1\u001b[0m proc_error \u001b[39m=\u001b[39m \u001b[39m1e-0\u001b[39m\n\u001b[0;32m----> 2\u001b[0m kf\u001b[39m.\u001b[39mQ \u001b[39m=\u001b[39m numpy\u001b[39m.\u001b[39meye(dim_x)\u001b[39m*\u001b[39mproc_error\n\u001b[1;32m      4\u001b[0m kf\u001b[39m.\u001b[39mx \u001b[39m=\u001b[39m x_init\u001b[39m.\u001b[39mT\n\u001b[1;32m      5\u001b[0m kf\u001b[39m.\u001b[39mP \u001b[39m=\u001b[39m cov_init\n",
      "\u001b[0;31mNameError\u001b[0m: name 'kf' is not defined"
     ]
    }
   ],
   "source": [
    "proc_error = 1e-0\n",
    "kf.Q = numpy.eye(dim_x)*proc_error\n",
    "\n",
    "kf.x = x_init.T\n",
    "kf.P = cov_init\n",
    "x_pred, cov, _, _ = kf.batch_filter(obs)\n",
    "\n",
    "plt.figure()\n",
    "plt.scatter(x_true[:,0],x_true[:,1],s=1, c='b',marker='o', edgecolors='b', label=\"true location\")\n",
    "plt.scatter(obs[:,0],   obs[:,1],   s=10,c='k',marker='+', edgecolors='k', label=\"measured loc\")\n",
    "plt.scatter(x_pred[:,0], x_pred[:,1], s=10,c='r',marker='s', edgecolors='r', label=\"estimated loc\")\n",
    "plt.xlabel('x [m]')\n",
    "plt.ylabel('y [m]')\n",
    "plt.legend(loc=4)"
   ]
  },
  {
   "attachments": {},
   "cell_type": "markdown",
   "metadata": {},
   "source": [
    "### Exercise 3 - parameter value tradeoffs in different scenarios\n",
    "In the previous exercise, you have tweaked the proc_error parameter to get smoother predicted trajectory, relying on the assumption that the process is very stable, ie, the object moves in linear fashion during the trajectory.\n",
    "\n",
    "What happens if this assumption changes, for example, if object moves in a piece-wise linear fashion?\n",
    "\n",
    "What happens if the assumption of the measurement error being from a Gaussian distribution is not valid and we encounter one corrupted sample?\n",
    "\n",
    "What are the trade-offs that the different values of the proc_error parameter offer?"
   ]
  },
  {
   "cell_type": "code",
   "execution_count": 4,
   "metadata": {},
   "outputs": [
    {
     "ename": "NameError",
     "evalue": "name 'kf' is not defined",
     "output_type": "error",
     "traceback": [
      "\u001b[0;31m---------------------------------------------------------------------------\u001b[0m",
      "\u001b[0;31mNameError\u001b[0m                                 Traceback (most recent call last)",
      "Cell \u001b[0;32mIn[4], line 10\u001b[0m\n\u001b[1;32m      7\u001b[0m obs \u001b[39m=\u001b[39m x_true[:,\u001b[39m0\u001b[39m:\u001b[39m2\u001b[39m]\u001b[39m+\u001b[39mobs_err\n\u001b[1;32m      9\u001b[0m proc_error \u001b[39m=\u001b[39m \u001b[39m1e-5\u001b[39m\n\u001b[0;32m---> 10\u001b[0m kf\u001b[39m.\u001b[39mQ \u001b[39m=\u001b[39m numpy\u001b[39m.\u001b[39meye(dim_x)\u001b[39m*\u001b[39mproc_error\n\u001b[1;32m     12\u001b[0m kf\u001b[39m.\u001b[39mx \u001b[39m=\u001b[39m x_init\u001b[39m.\u001b[39mT\n\u001b[1;32m     13\u001b[0m kf\u001b[39m.\u001b[39mP \u001b[39m=\u001b[39m cov_init\n",
      "\u001b[0;31mNameError\u001b[0m: name 'kf' is not defined"
     ]
    }
   ],
   "source": [
    "xt1 = generate_trajectory(xcoord,ycoord,vx,vy,dt,int(nsteps/4))\n",
    "xt2 = generate_trajectory(xt1[-1][0],xt1[-1][1],-vx,vy,dt,int(nsteps/4))\n",
    "xt3 = generate_trajectory(xt2[-1][0],xt2[-1][1],-vx,-vy,dt,int(nsteps/4))\n",
    "xt4 = generate_trajectory(xt3[-1][0],xt3[-1][1],-vx,vy,dt,int(nsteps/4))\n",
    "x_true = numpy.array(xt1+xt2+xt3+xt4)\n",
    "obs_err = numpy.random.normal(0,numpy.ones(dim_z)*meas_error,(nsteps,dim_z)) # observations \n",
    "obs = x_true[:,0:2]+obs_err\n",
    "\n",
    "proc_error = 1e-5\n",
    "kf.Q = numpy.eye(dim_x)*proc_error\n",
    "\n",
    "kf.x = x_init.T\n",
    "kf.P = cov_init\n",
    "x_pred, cov, _, _ = kf.batch_filter(obs)\n",
    "\n",
    "plt.figure()\n",
    "plt.scatter(x_true[:,0],x_true[:,1],s=1, c='b',marker='o', edgecolors='b', label=\"true location\")\n",
    "plt.scatter(obs[:,0],   obs[:,1],   s=10,c='k',marker='+', edgecolors='k', label=\"measured loc\")\n",
    "plt.scatter(x_pred[:,0], x_pred[:,1], s=10,c='r',marker='s', edgecolors='r', label=\"estimated loc\")\n",
    "plt.xlabel('x [m]')\n",
    "plt.ylabel('y [m]')\n",
    "plt.legend(loc=4)"
   ]
  },
  {
   "cell_type": "code",
   "execution_count": 5,
   "metadata": {},
   "outputs": [
    {
     "ename": "NameError",
     "evalue": "name 'kf' is not defined",
     "output_type": "error",
     "traceback": [
      "\u001b[0;31m---------------------------------------------------------------------------\u001b[0m",
      "\u001b[0;31mNameError\u001b[0m                                 Traceback (most recent call last)",
      "Cell \u001b[0;32mIn[5], line 7\u001b[0m\n\u001b[1;32m      4\u001b[0m obs[\u001b[39m50\u001b[39m,:]\u001b[39m+\u001b[39m\u001b[39m=\u001b[39m(\u001b[39m1000\u001b[39m,\u001b[39m0\u001b[39m)\n\u001b[1;32m      6\u001b[0m proc_error \u001b[39m=\u001b[39m \u001b[39m1e-5\u001b[39m\n\u001b[0;32m----> 7\u001b[0m kf\u001b[39m.\u001b[39mQ \u001b[39m=\u001b[39m numpy\u001b[39m.\u001b[39meye(dim_x)\u001b[39m*\u001b[39mproc_error\n\u001b[1;32m      9\u001b[0m kf\u001b[39m.\u001b[39mx \u001b[39m=\u001b[39m x_init\u001b[39m.\u001b[39mT\n\u001b[1;32m     10\u001b[0m kf\u001b[39m.\u001b[39mP \u001b[39m=\u001b[39m cov_init\n",
      "\u001b[0;31mNameError\u001b[0m: name 'kf' is not defined"
     ]
    }
   ],
   "source": [
    "x_true = numpy.array(generate_trajectory(xcoord,ycoord,vx,vy,dt,nsteps))\n",
    "obs_err = numpy.random.normal(0,numpy.ones(dim_z)*meas_error,(nsteps,dim_z)) # observations \n",
    "obs = x_true[:,0:2]+obs_err\n",
    "obs[50,:]+=(1000,0)\n",
    "\n",
    "proc_error = 1e-5\n",
    "kf.Q = numpy.eye(dim_x)*proc_error\n",
    "\n",
    "kf.x = x_init.T\n",
    "kf.P = cov_init\n",
    "x_pred, cov, _, _ = kf.batch_filter(obs)\n",
    "\n",
    "plt.figure()\n",
    "plt.scatter(x_true[:,0],x_true[:,1],s=1, c='b',marker='o', edgecolors='b', label=\"true location\")\n",
    "plt.scatter(obs[:,0],   obs[:,1],   s=10,c='k',marker='+', edgecolors='k', label=\"measured loc\")\n",
    "plt.scatter(x_pred[:,0], x_pred[:,1], s=10,c='r',marker='s', edgecolors='r', label=\"estimated loc\")\n",
    "plt.xlabel('x [m]')\n",
    "plt.ylabel('y [m]')\n",
    "plt.legend(loc=4)"
   ]
  },
  {
   "attachments": {},
   "cell_type": "markdown",
   "metadata": {},
   "source": [
    "### Exercise 4 - more advanced trajectories\n",
    "\n",
    "How is your filter performing for non-linear trajectories? Can you change the simulator to generate a circular path? \n",
    "\n",
    "Are you able to tweak parameters of the linear motion KF model to approimate the trajectory well?\n",
    "\n",
    "Can you extend the filter with a complete physical model including acceleration? Has the prediction performance improved?"
   ]
  },
  {
   "cell_type": "code",
   "execution_count": null,
   "metadata": {},
   "outputs": [],
   "source": [
    "import math\n",
    "def generate_trajectory(x,y,num_steps):\n",
    "    return [(?,?) for angle in numpy.arange(0.0,6.28,6.28/num_steps)]\n",
    "\n",
    "meas_error = 10.0 #m\n",
    "nsteps=500\n",
    "\n",
    "x_true = numpy.array(generate_trajectory(xcoord,ycoord,nsteps))\n",
    "obs_err = numpy.random.normal(0,numpy.ones(dim_z)*meas_error,(nsteps,dim_z)) # observations \n",
    "obs = x_true[:,0:2]+obs_err\n",
    "\n",
    "proc_error = 1e-5\n",
    "init_error = 10.0\n",
    "\n",
    "dim_x=6\n",
    "x_init = numpy.array( [xcoord+random.uniform(-init_error/2,init_error/2), ycoord+random.uniform(-init_error/2,init_error/2), vx, vy, 0, 0] )\n",
    "cov_init=100*init_error**2 * numpy.eye(dim_x)\n",
    "kf = KalmanFilter(dim_x, dim_z)\n",
    "kf.F = numpy.array([?])\n",
    "kf.Q = numpy.eye(dim_x)*proc_error\n",
    "kf.H = numpy.array([(1, 0, 0, 0,0,0), (0, 1, 0, 0,0,0)])\n",
    "kf.R = numpy.eye(dim_z)*meas_error\n",
    "\n",
    "\n",
    "kf.x = x_init.T\n",
    "kf.P = cov_init\n",
    "\n",
    "x_pred, cov, _, _ = kf.batch_filter(obs)\n",
    "\n",
    "plt.figure()\n",
    "plt.scatter(x_true[:,0],x_true[:,1],s=1, c='b',marker='o', edgecolors='b', label=\"true location\")\n",
    "plt.scatter(obs[:,0],   obs[:,1],   s=10,c='k',marker='+', edgecolors='k', label=\"measured loc\")\n",
    "plt.scatter(x_pred[:,0], x_pred[:,1], s=10,c='r',marker='s', edgecolors='r', label=\"estimated loc\")\n",
    "plt.xlabel('x [m]')\n",
    "plt.ylabel('y [m]')\n",
    "plt.legend(loc=4)"
   ]
  }
 ],
 "metadata": {
  "kernelspec": {
   "display_name": "Python 3 (ipykernel)",
   "language": "python",
   "name": "python3"
  },
  "language_info": {
   "codemirror_mode": {
    "name": "ipython",
    "version": 3
   },
   "file_extension": ".py",
   "mimetype": "text/x-python",
   "name": "python",
   "nbconvert_exporter": "python",
   "pygments_lexer": "ipython3",
   "version": "3.11.2"
  }
 },
 "nbformat": 4,
 "nbformat_minor": 2
}
